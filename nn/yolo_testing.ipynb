{
 "cells": [
  {
   "cell_type": "code",
   "execution_count": null,
   "id": "e310b4c0-b808-48bd-926c-93aa335c90a8",
   "metadata": {},
   "outputs": [],
   "source": [
    "import os\n",
    "import time\n",
    "import cv2\n",
    "import ultralytics"
   ]
  },
  {
   "cell_type": "code",
   "execution_count": null,
   "id": "cf18da89-e2b9-4395-b94f-f9c6a666f753",
   "metadata": {},
   "outputs": [],
   "source": [
    "model = ltralytics.YOLO(\"model.pt\")"
   ]
  },
  {
   "cell_type": "code",
   "execution_count": null,
   "id": "83c73661-3914-49da-86d1-619be272561b",
   "metadata": {},
   "outputs": [],
   "source": [
    "model.val()"
   ]
  },
  {
   "cell_type": "code",
   "execution_count": null,
   "id": "1a923b73-481a-4553-9f81-deb6d517204f",
   "metadata": {},
   "outputs": [],
   "source": [
    "total_time = 0\n",
    "for file_dir, _, file_names in os.walk('dataset/images/val/'):\n",
    "    for i in range(100):\n",
    "        start_time = time.time()\n",
    "        image = cv2.imread(f'{file_dir}{file_names[i]}')\n",
    "        model.predict(image, verbose=False)\n",
    "        total_time += time.time() - start_time\n",
    "    print(total_time / 100)\n"
   ]
  }
 ],
 "metadata": {
  "kernelspec": {
   "display_name": "Python 3 (ipykernel)",
   "language": "python",
   "name": "python3"
  },
  "language_info": {
   "codemirror_mode": {
    "name": "ipython",
    "version": 3
   },
   "file_extension": ".py",
   "mimetype": "text/x-python",
   "name": "python",
   "nbconvert_exporter": "python",
   "pygments_lexer": "ipython3",
   "version": "3.12.1"
  }
 },
 "nbformat": 4,
 "nbformat_minor": 5
}
