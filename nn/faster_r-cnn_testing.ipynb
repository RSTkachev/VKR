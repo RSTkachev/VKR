{
 "cells": [
  {
   "cell_type": "code",
   "execution_count": null,
   "id": "50dc0b75-58de-40bb-944e-79a18d49f2ee",
   "metadata": {
    "tags": []
   },
   "outputs": [],
   "source": [
    "import os\n",
    "import time\n",
    "\n",
    "import cv2\n",
    "\n",
    "import numpy as np\n",
    "import torch\n",
    "import torchvision\n",
    "from torchvision.models.detection.faster_rcnn import FastRCNNPredictor"
   ]
  },
  {
   "cell_type": "code",
   "execution_count": null,
   "id": "cce20412-bd44-4455-b99d-5614f4b69850",
   "metadata": {
    "tags": []
   },
   "outputs": [],
   "source": [
    "def get_object_detection_model(num_classes):\n",
    "\n",
    "    model = torchvision.models.detection.fasterrcnn_resnet50_fpn(weights=\"DEFAULT\")\n",
    "\n",
    "    in_features = model.roi_heads.box_predictor.cls_score.in_features\n",
    "    model.roi_heads.box_predictor = FastRCNNPredictor(in_features, num_classes)\n",
    "\n",
    "    return model"
   ]
  },
  {
   "cell_type": "code",
   "execution_count": null,
   "id": "2cd805cc-778c-42d4-9863-902cc93d7984",
   "metadata": {
    "tags": []
   },
   "outputs": [],
   "source": [
    "device = torch.device('cuda') if torch.cuda.is_available() else torch.device('cpu')"
   ]
  },
  {
   "cell_type": "code",
   "execution_count": null,
   "id": "a0844099-9e56-4ce6-b0ec-33376fafc166",
   "metadata": {},
   "outputs": [],
   "source": [
    "model = get_object_detection_model(14)"
   ]
  },
  {
   "cell_type": "code",
   "execution_count": null,
   "id": "b0b1a6d0-fc87-4d28-8653-5a6475133350",
   "metadata": {
    "scrolled": true,
    "tags": []
   },
   "outputs": [],
   "source": [
    "model.load_state_dict(torch.load('training/faster_rcnn_weights_best.pt'))\n",
    "model.to(device)"
   ]
  },
  {
   "cell_type": "code",
   "execution_count": null,
   "id": "f891ca7d-b386-4491-b74f-3973f386a321",
   "metadata": {
    "tags": []
   },
   "outputs": [],
   "source": [
    "total_time = 0\n",
    "for directory, _, files in os.walk('../../dataset/train/images'):\n",
    "    for i in range(100):\n",
    "        image = cv2.imread(f'{directory}/{files[i]}', cv2.IMREAD_COLOR)\n",
    "        image = cv2.cvtColor(image, cv2.COLOR_BGR2RGB).astype(np.float32)\n",
    "        image /= 255.0\n",
    "        image = torch.tensor(image)\n",
    "        image = image.permute(2, 0, 1)\n",
    "\n",
    "        model.eval()\n",
    "        with torch.no_grad():\n",
    "            image_time = time.time()\n",
    "            prediction = model([image.to(device)])[0]\n",
    "            total_time += (time.time() - image_time)\n",
    "\n",
    "print(total_time / 100)"
   ]
  }
 ],
 "metadata": {
  "kernelspec": {
   "display_name": "Python 3 (ipykernel)",
   "language": "python",
   "name": "python3"
  },
  "language_info": {
   "codemirror_mode": {
    "name": "ipython",
    "version": 3
   },
   "file_extension": ".py",
   "mimetype": "text/x-python",
   "name": "python",
   "nbconvert_exporter": "python",
   "pygments_lexer": "ipython3",
   "version": "3.12.1"
  }
 },
 "nbformat": 4,
 "nbformat_minor": 5
}
