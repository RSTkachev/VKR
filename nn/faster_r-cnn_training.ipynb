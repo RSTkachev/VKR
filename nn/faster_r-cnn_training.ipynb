{
 "cells": [
  {
   "cell_type": "markdown",
   "id": "90a331d5-c434-4575-8f8d-7f99b1d2bf78",
   "metadata": {},
   "source": [
    "# Импорт библиотек"
   ]
  },
  {
   "cell_type": "code",
   "execution_count": 1,
   "id": "87c15d58-c889-4832-8c9f-49ccd73ca0ef",
   "metadata": {
    "tags": []
   },
   "outputs": [],
   "source": [
    "from time import time, localtime, strftime\n",
    "\n",
    "import math\n",
    "import numpy as np\n",
    "import pandas as pd\n",
    "\n",
    "import cv2\n",
    "\n",
    "import torch\n",
    "from torch.utils.data import Dataset, DataLoader\n",
    "import torchvision\n",
    "from torchvision.models.detection.faster_rcnn import FastRCNNPredictor\n",
    "from torchvision.transforms import v2 as T\n",
    "\n",
    "from engine import train_one_epoch, evaluate\n",
    "import utils\n",
    "\n",
    "from clearml import Task, Logger\n",
    "\n",
    "import io\n",
    "from contextlib import redirect_stdout\n",
    "\n",
    "import warnings\n",
    "warnings.filterwarnings('ignore')"
   ]
  },
  {
   "cell_type": "markdown",
   "id": "9ccd4c12-f251-4507-9965-ef6e07b6d25b",
   "metadata": {},
   "source": [
    "# Подключение ClearML"
   ]
  },
  {
   "cell_type": "code",
   "execution_count": 2,
   "id": "ef695337-3b58-45c3-8134-1b65ad41df7c",
   "metadata": {
    "tags": []
   },
   "outputs": [
    {
     "name": "stdout",
     "output_type": "stream",
     "text": [
      "env: CLEARML_WEB_HOST=https://app.clear.ml\n",
      "env: CLEARML_API_HOST=https://api.clear.ml\n",
      "env: CLEARML_FILES_HOST=https://files.clear.ml\n",
      "env: CLEARML_API_ACCESS_KEY=ZSRLXZMP0J1YF71WUXFW\n",
      "env: CLEARML_API_SECRET_KEY=rKFqd1bjD1v23kEUyzPD7wK3v6qbXlsoX1kuBKECEk7jFDCOWQ\n"
     ]
    }
   ],
   "source": [
    "%env CLEARML_WEB_HOST=https://app.clear.ml\n",
    "%env CLEARML_API_HOST=https://api.clear.ml\n",
    "%env CLEARML_FILES_HOST=https://files.clear.ml\n",
    "%env CLEARML_API_ACCESS_KEY=ZSRLXZMP0J1YF71WUXFW\n",
    "%env CLEARML_API_SECRET_KEY=rKFqd1bjD1v23kEUyzPD7wK3v6qbXlsoX1kuBKECEk7jFDCOWQ"
   ]
  },
  {
   "cell_type": "code",
   "execution_count": 3,
   "id": "bcf772b1-514f-4ef7-8cf4-205af7c228c5",
   "metadata": {},
   "outputs": [
    {
     "name": "stdout",
     "output_type": "stream",
     "text": [
      "ClearML Task: created new task id=8e154479ee3d4dd8aab9d0b467eec72e\n",
      "2024-04-05 01:29:01,883 - clearml.Task - INFO - Storing jupyter notebook directly as code\n",
      "ClearML results page: https://app.clear.ml/projects/ccb749dab7464bfaa292381a3f21b2a9/experiments/8e154479ee3d4dd8aab9d0b467eec72e/output/log\n"
     ]
    }
   ],
   "source": [
    "task = Task.init(\n",
    "    project_name='Faster RCNN',\n",
    "    task_name='Training',\n",
    "    tags=['Faster RCNN', 'PyTorch', 'Training', 'Big dataset']\n",
    ")"
   ]
  },
  {
   "cell_type": "markdown",
   "id": "a1200e63-baa1-469d-82b0-3cfcd1f1c015",
   "metadata": {},
   "source": [
    "# Подготовка данных для обучения и тестирования"
   ]
  },
  {
   "cell_type": "code",
   "execution_count": 4,
   "id": "88cc44ea-d654-4155-8486-ddee1efa8b57",
   "metadata": {
    "tags": []
   },
   "outputs": [],
   "source": [
    "train_data = pd.read_csv('train_df.csv')\n",
    "valid_data = pd.read_csv('test_df.csv')"
   ]
  },
  {
   "cell_type": "code",
   "execution_count": 4,
   "id": "7858ccab-0269-4849-a9d8-f07223315162",
   "metadata": {
    "tags": []
   },
   "outputs": [],
   "source": [
    "class WildLifeDataset(Dataset):\n",
    "    def __init__(self, dataframe, img_dir, width, height, transforms=None):\n",
    "        super().__init__()\n",
    "\n",
    "        self.df = dataframe\n",
    "        self.img_dir = img_dir\n",
    "        self.images = list(dataframe['img_filename'].unique())\n",
    "\n",
    "        self.width = width\n",
    "        self.height = height\n",
    "\n",
    "        self.transforms = transforms\n",
    "\n",
    "    def __len__(self):\n",
    "        return len(self.images)\n",
    "\n",
    "    def __getitem__(self, idx):\n",
    "        img = self.images[idx]\n",
    "        image = cv2.imread(f'{self.img_dir}/{img}', cv2.IMREAD_COLOR)\n",
    "\n",
    "        wt = image.shape[1]\n",
    "        ht = image.shape[0]\n",
    "\n",
    "        image = cv2.cvtColor(image, cv2.COLOR_BGR2RGB).astype(np.float32)\n",
    "        image = cv2.resize(image, (self.width, self.height), cv2.INTER_AREA)\n",
    "        image /= 255.0\n",
    "\n",
    "        image = torch.Tensor(image)\n",
    "        image = image.permute(2, 0, 1)\n",
    "\n",
    "        boxes = []\n",
    "        labels = []\n",
    "\n",
    "        for line in self.df[self.df['img_filename'] == img].index:\n",
    "            box = [\n",
    "                self.df.loc[line, 'ann_bbox_xmin'] / wt * self.width,\n",
    "                self.df.loc[line, 'ann_bbox_ymin'] / ht * self.height,\n",
    "                self.df.loc[line, 'ann_bbox_xmax'] / wt * self.width,\n",
    "                self.df.loc[line, 'ann_bbox_ymax'] / ht * self.height,\n",
    "            ]\n",
    "            labels.append(self.df.loc[line, 'cat_id'] + 1)\n",
    "\n",
    "            boxes.append(box)\n",
    "\n",
    "        boxes = torch.as_tensor(boxes, dtype=torch.float32)\n",
    "        area = (boxes[:, 3] - boxes[:, 1]) * (boxes[:, 2] - boxes[:, 0])\n",
    "\n",
    "        labels = torch.tensor(labels)\n",
    "\n",
    "        iscrowd = torch.zeros((boxes.shape[0],), dtype=torch.int64)\n",
    "\n",
    "        image_id = idx\n",
    "\n",
    "        target = {\n",
    "            \"boxes\": boxes,\n",
    "            \"area\": area,\n",
    "            \"labels\": labels,\n",
    "            \"iscrowd\": iscrowd,\n",
    "            \"image_id\": image_id\n",
    "        }\n",
    "\n",
    "        if self.transforms is not None:\n",
    "            image, target = self.transforms(image, target)\n",
    "\n",
    "        return image, target"
   ]
  },
  {
   "cell_type": "code",
   "execution_count": 2,
   "id": "4b361a60-9b9e-47f6-b3c3-2c653b461cda",
   "metadata": {
    "tags": []
   },
   "outputs": [],
   "source": [
    "def get_transform(train):\n",
    "    transforms = []\n",
    "    if train:\n",
    "        transforms.append(T.RandomHorizontalFlip(p=0.5)),\n",
    "        transforms.append(T.ColorJitter(p=0.3)),\n",
    "        transforms.append(T.GaussianBlur(p=0.1))\n",
    "\n",
    "    transforms.append(T.ToDtype(torch.float, scale=True))\n",
    "    transforms.append(T.ToPureTensor())\n",
    "    return T.Compose(transforms)"
   ]
  },
  {
   "cell_type": "code",
   "execution_count": 24,
   "id": "accbd487-2145-4fda-9a3e-7622585c6fca",
   "metadata": {},
   "outputs": [],
   "source": [
    "train_dataset = WildLifeDataset(train_data, '../../dataset/images/train', 640, 640, get_transform(train=True))\n",
    "valid_dataset = WildLifeDataset(valid_data, '../../dataset/images/test', 640, 640, get_transform(train=False))\n",
    "\n",
    "train_dataloader = DataLoader(\n",
    "    train_dataset,\n",
    "    batch_size=4,\n",
    "    num_workers=0,\n",
    "    shuffle=True,\n",
    "    collate_fn=utils.collate_fn,\n",
    ")\n",
    "\n",
    "valid_dataloader = DataLoader(\n",
    "    valid_dataset,\n",
    "    batch_size=4,\n",
    "    num_workers=0,\n",
    "    shuffle=False,\n",
    "    collate_fn=utils.collate_fn\n",
    ")"
   ]
  },
  {
   "cell_type": "markdown",
   "id": "51dbd7b2-6210-4514-a6fc-bd473ee614cc",
   "metadata": {
    "tags": []
   },
   "source": [
    "# Создание модели и обучение"
   ]
  },
  {
   "cell_type": "markdown",
   "id": "9ce4121a-d3c3-4241-a77e-5dce409c8602",
   "metadata": {},
   "source": [
    "**Функция для создания модели**"
   ]
  },
  {
   "cell_type": "code",
   "execution_count": 8,
   "id": "5a73c947-f7b1-41a6-8016-7afc9a597e39",
   "metadata": {},
   "outputs": [],
   "source": [
    "def get_object_detection_model(num_classes):\n",
    "\n",
    "    model = torchvision.models.detection.fasterrcnn_resnet50_fpn(weights=\"DEFAULT\")\n",
    "\n",
    "    in_features = model.roi_heads.box_predictor.cls_score.in_features\n",
    "    model.roi_heads.box_predictor = FastRCNNPredictor(in_features, num_classes)\n",
    "\n",
    "    return model"
   ]
  },
  {
   "cell_type": "markdown",
   "id": "90cff15a-daeb-4303-9ae7-6c93b90928af",
   "metadata": {},
   "source": [
    "**Определение устройства для обучения модели**"
   ]
  },
  {
   "cell_type": "code",
   "execution_count": 9,
   "id": "f1cc2140-9368-484c-9004-ddd75f1bb5bd",
   "metadata": {},
   "outputs": [],
   "source": [
    "device = torch.device('cuda') if torch.cuda.is_available() else torch.device('cpu')"
   ]
  },
  {
   "cell_type": "markdown",
   "id": "c7d0480c-825d-4a98-ae15-12dbc3b10866",
   "metadata": {},
   "source": [
    "**Определение параметров обучения**"
   ]
  },
  {
   "cell_type": "code",
   "execution_count": 18,
   "id": "7d90d6f7-2c03-4c70-b648-19959eb26aa1",
   "metadata": {},
   "outputs": [],
   "source": [
    "num_classes = 14\n",
    "\n",
    "\n",
    "model = get_object_detection_model(num_classes)\n",
    "model.to(device)\n",
    "\n",
    "\n",
    "params = [p for p in model.parameters() if p.requires_grad]\n",
    "optimizer = torch.optim.AdamW(\n",
    "    params,\n",
    "    lr=0.0001,\n",
    "    weight_decay=0.0005\n",
    ")\n",
    "\n",
    "\n",
    "lr_scheduler = torch.optim.lr_scheduler.CosineAnnealingWarmRestarts(\n",
    "    optimizer,\n",
    "    T_0=110,\n",
    "    T_mult=1\n",
    ")"
   ]
  },
  {
   "cell_type": "markdown",
   "id": "7e0755dc-c672-4941-b941-b1cc6916b5a6",
   "metadata": {},
   "source": [
    "**Обучение модели**"
   ]
  },
  {
   "cell_type": "code",
   "execution_count": 11,
   "id": "64dd6c27-5705-44f9-a845-f6404ab12c4f",
   "metadata": {
    "tags": []
   },
   "outputs": [],
   "source": [
    "class Predictor:\n",
    "    weights = None\n",
    "    ap95 = np.float32(0.0)\n",
    "    ar = np.float32(0.0)"
   ]
  },
  {
   "cell_type": "code",
   "execution_count": 12,
   "id": "b723c5e9-8c05-4c6c-920e-86ab7f16ea81",
   "metadata": {
    "tags": []
   },
   "outputs": [],
   "source": [
    "def clear_string(string_out):\n",
    "    string_out.truncate(0)\n",
    "    string_out.seek(0)"
   ]
  },
  {
   "cell_type": "code",
   "execution_count": 13,
   "id": "7f6ee696-374b-4397-8fc2-74905e207762",
   "metadata": {
    "scrolled": true,
    "tags": []
   },
   "outputs": [
    {
     "name": "stdout",
     "output_type": "stream",
     "text": [
      "----------------------------------------------------------------------------------------------------\n",
      "Epoch 1    05-04-2024 01:29:16\n",
      "ClearML Monitor: Could not detect iteration reporting, falling back to iterations as seconds-from-start\n",
      "2024-04-05 02:34:29,758 - clearml.frameworks - INFO - Found existing registered model id=c9d80a500d0b4cf8b292362876754c1f [C:\\Users\\User\\Jupyter\\DL\\faster_rcnn\\training\\faster_rcnn_weights_last.pt] reusing it.\n",
      "New best classifier epoch 1\n",
      "Epoch evaluation time 3926.8371658325195\n",
      "----------------------------------------------------------------------------------------------------\n",
      "Epoch 2    05-04-2024 02:34:43\n",
      "New best classifier epoch 2\n",
      "Epoch evaluation time 3996.658895969391\n",
      "----------------------------------------------------------------------------------------------------\n",
      "Epoch 3    05-04-2024 03:41:19\n",
      "Epoch evaluation time 4000.5950000286102\n",
      "----------------------------------------------------------------------------------------------------\n",
      "Epoch 4    05-04-2024 04:48:00\n",
      "New best classifier epoch 4\n",
      "Epoch evaluation time 3998.0186738967896\n",
      "----------------------------------------------------------------------------------------------------\n",
      "Epoch 5    05-04-2024 05:54:38\n",
      "2024-04-05 07:01:15,135 - clearml.frameworks - INFO - Found existing registered model id=fb507a117c0c400f8760fb98c33c6c57 [C:\\Users\\User\\Jupyter\\DL\\faster_rcnn\\training\\faster_rcnn_weights_5.pt] reusing it.\n",
      "New best classifier epoch 5\n",
      "Epoch evaluation time 4010.204050540924\n",
      "----------------------------------------------------------------------------------------------------\n",
      "Epoch 6    05-04-2024 07:01:28\n",
      "Epoch evaluation time 3995.335761785507\n",
      "----------------------------------------------------------------------------------------------------\n",
      "Epoch 7    05-04-2024 08:08:03\n",
      "New best classifier epoch 7\n",
      "Epoch evaluation time 3992.5293135643005\n",
      "----------------------------------------------------------------------------------------------------\n",
      "Epoch 8    05-04-2024 09:14:36\n"
     ]
    },
    {
     "name": "stderr",
     "output_type": "stream",
     "text": [
      "Retrying (Retry(total=2, connect=2, read=5, redirect=5, status=None)) after connection broken by 'NewConnectionError('<urllib3.connection.HTTPSConnection object at 0x0000029DB9EABB10>: Failed to establish a new connection: [WinError 10051] Сделана попытка выполнить операцию на сокете при отключенной сети')': /\n"
     ]
    },
    {
     "name": "stdout",
     "output_type": "stream",
     "text": [
      "New best classifier epoch 8\n",
      "Epoch evaluation time 3993.32422041893\n",
      "----------------------------------------------------------------------------------------------------\n",
      "Epoch 9    05-04-2024 10:21:09\n",
      "New best classifier epoch 9\n",
      "Epoch evaluation time 4001.8101937770844\n",
      "----------------------------------------------------------------------------------------------------\n",
      "Epoch 10    05-04-2024 11:27:51\n"
     ]
    },
    {
     "name": "stderr",
     "output_type": "stream",
     "text": [
      "Certificate did not match expected hostname: files.clear.ml. Certificate: {'subject': ((('commonName', 'web-search-results-api-public.qa.bws.esa.com'),),), 'issuer': ((('countryName', 'US'),), (('organizationName', 'Amazon'),), (('commonName', 'Amazon RSA 2048 M02'),)), 'version': 3, 'serialNumber': '0EA57E037BE121416BCDD3B11AF87FB4', 'notBefore': 'Sep 20 00:00:00 2023 GMT', 'notAfter': 'Oct 18 23:59:59 2024 GMT', 'subjectAltName': (('DNS', 'web-search-results-api-public.qa.bws.esa.com'),), 'OCSP': ('http://ocsp.r2m02.amazontrust.com',), 'caIssuers': ('http://crt.r2m02.amazontrust.com/r2m02.cer',), 'crlDistributionPoints': ('http://crl.r2m02.amazontrust.com/r2m02.crl',)}\n",
      "Certificate did not match expected hostname: files.clear.ml. Certificate: {'subject': ((('commonName', 'web-search-results-api-public.qa.bws.esa.com'),),), 'issuer': ((('countryName', 'US'),), (('organizationName', 'Amazon'),), (('commonName', 'Amazon RSA 2048 M02'),)), 'version': 3, 'serialNumber': '0EA57E037BE121416BCDD3B11AF87FB4', 'notBefore': 'Sep 20 00:00:00 2023 GMT', 'notAfter': 'Oct 18 23:59:59 2024 GMT', 'subjectAltName': (('DNS', 'web-search-results-api-public.qa.bws.esa.com'),), 'OCSP': ('http://ocsp.r2m02.amazontrust.com',), 'caIssuers': ('http://crt.r2m02.amazontrust.com/r2m02.cer',), 'crlDistributionPoints': ('http://crl.r2m02.amazontrust.com/r2m02.crl',)}\n"
     ]
    },
    {
     "name": "stdout",
     "output_type": "stream",
     "text": [
      "New best classifier epoch 10\n",
      "Epoch evaluation time 4003.511302947998\n",
      "----------------------------------------------------------------------------------------------------\n",
      "Epoch 11    05-04-2024 12:34:35\n"
     ]
    },
    {
     "name": "stderr",
     "output_type": "stream",
     "text": [
      "Certificate did not match expected hostname: files.clear.ml. Certificate: {'subject': ((('commonName', 'web-search-results-api-public.qa.bws.esa.com'),),), 'issuer': ((('countryName', 'US'),), (('organizationName', 'Amazon'),), (('commonName', 'Amazon RSA 2048 M02'),)), 'version': 3, 'serialNumber': '0EA57E037BE121416BCDD3B11AF87FB4', 'notBefore': 'Sep 20 00:00:00 2023 GMT', 'notAfter': 'Oct 18 23:59:59 2024 GMT', 'subjectAltName': (('DNS', 'web-search-results-api-public.qa.bws.esa.com'),), 'OCSP': ('http://ocsp.r2m02.amazontrust.com',), 'caIssuers': ('http://crt.r2m02.amazontrust.com/r2m02.cer',), 'crlDistributionPoints': ('http://crl.r2m02.amazontrust.com/r2m02.crl',)}\n",
      "Certificate did not match expected hostname: files.clear.ml. Certificate: {'subject': ((('commonName', 'web-search-results-api-public.qa.bws.esa.com'),),), 'issuer': ((('countryName', 'US'),), (('organizationName', 'Amazon'),), (('commonName', 'Amazon RSA 2048 M02'),)), 'version': 3, 'serialNumber': '0EA57E037BE121416BCDD3B11AF87FB4', 'notBefore': 'Sep 20 00:00:00 2023 GMT', 'notAfter': 'Oct 18 23:59:59 2024 GMT', 'subjectAltName': (('DNS', 'web-search-results-api-public.qa.bws.esa.com'),), 'OCSP': ('http://ocsp.r2m02.amazontrust.com',), 'caIssuers': ('http://crt.r2m02.amazontrust.com/r2m02.cer',), 'crlDistributionPoints': ('http://crl.r2m02.amazontrust.com/r2m02.crl',)}\n",
      "Certificate did not match expected hostname: files.clear.ml. Certificate: {'subject': ((('commonName', 'web-search-results-api-public.qa.bws.esa.com'),),), 'issuer': ((('countryName', 'US'),), (('organizationName', 'Amazon'),), (('commonName', 'Amazon RSA 2048 M02'),)), 'version': 3, 'serialNumber': '0EA57E037BE121416BCDD3B11AF87FB4', 'notBefore': 'Sep 20 00:00:00 2023 GMT', 'notAfter': 'Oct 18 23:59:59 2024 GMT', 'subjectAltName': (('DNS', 'web-search-results-api-public.qa.bws.esa.com'),), 'OCSP': ('http://ocsp.r2m02.amazontrust.com',), 'caIssuers': ('http://crt.r2m02.amazontrust.com/r2m02.cer',), 'crlDistributionPoints': ('http://crl.r2m02.amazontrust.com/r2m02.crl',)}\n",
      "Retrying (Retry(total=2, connect=5, read=5, redirect=5, status=None)) after connection broken by 'SSLError(CertificateError(\"hostname 'files.clear.ml' doesn't match 'web-search-results-api-public.qa.bws.esa.com'\"))': /\n",
      "Certificate did not match expected hostname: files.clear.ml. Certificate: {'subject': ((('commonName', 'web-search-results-api-public.qa.bws.esa.com'),),), 'issuer': ((('countryName', 'US'),), (('organizationName', 'Amazon'),), (('commonName', 'Amazon RSA 2048 M02'),)), 'version': 3, 'serialNumber': '0EA57E037BE121416BCDD3B11AF87FB4', 'notBefore': 'Sep 20 00:00:00 2023 GMT', 'notAfter': 'Oct 18 23:59:59 2024 GMT', 'subjectAltName': (('DNS', 'web-search-results-api-public.qa.bws.esa.com'),), 'OCSP': ('http://ocsp.r2m02.amazontrust.com',), 'caIssuers': ('http://crt.r2m02.amazontrust.com/r2m02.cer',), 'crlDistributionPoints': ('http://crl.r2m02.amazontrust.com/r2m02.crl',)}\n",
      "Retrying (Retry(total=1, connect=5, read=5, redirect=5, status=None)) after connection broken by 'SSLError(CertificateError(\"hostname 'files.clear.ml' doesn't match 'web-search-results-api-public.qa.bws.esa.com'\"))': /\n",
      "Certificate did not match expected hostname: files.clear.ml. Certificate: {'subject': ((('commonName', 'web-search-results-api-public.qa.bws.esa.com'),),), 'issuer': ((('countryName', 'US'),), (('organizationName', 'Amazon'),), (('commonName', 'Amazon RSA 2048 M02'),)), 'version': 3, 'serialNumber': '0EA57E037BE121416BCDD3B11AF87FB4', 'notBefore': 'Sep 20 00:00:00 2023 GMT', 'notAfter': 'Oct 18 23:59:59 2024 GMT', 'subjectAltName': (('DNS', 'web-search-results-api-public.qa.bws.esa.com'),), 'OCSP': ('http://ocsp.r2m02.amazontrust.com',), 'caIssuers': ('http://crt.r2m02.amazontrust.com/r2m02.cer',), 'crlDistributionPoints': ('http://crl.r2m02.amazontrust.com/r2m02.crl',)}\n",
      "Retrying (Retry(total=0, connect=5, read=5, redirect=5, status=None)) after connection broken by 'SSLError(CertificateError(\"hostname 'files.clear.ml' doesn't match 'web-search-results-api-public.qa.bws.esa.com'\"))': /\n",
      "Certificate did not match expected hostname: files.clear.ml. Certificate: {'subject': ((('commonName', 'web-search-results-api-public.qa.bws.esa.com'),),), 'issuer': ((('countryName', 'US'),), (('organizationName', 'Amazon'),), (('commonName', 'Amazon RSA 2048 M02'),)), 'version': 3, 'serialNumber': '0EA57E037BE121416BCDD3B11AF87FB4', 'notBefore': 'Sep 20 00:00:00 2023 GMT', 'notAfter': 'Oct 18 23:59:59 2024 GMT', 'subjectAltName': (('DNS', 'web-search-results-api-public.qa.bws.esa.com'),), 'OCSP': ('http://ocsp.r2m02.amazontrust.com',), 'caIssuers': ('http://crt.r2m02.amazontrust.com/r2m02.cer',), 'crlDistributionPoints': ('http://crl.r2m02.amazontrust.com/r2m02.crl',)}\n",
      "Certificate did not match expected hostname: files.clear.ml. Certificate: {'subject': ((('commonName', 'web-search-results-api-public.qa.bws.esa.com'),),), 'issuer': ((('countryName', 'US'),), (('organizationName', 'Amazon'),), (('commonName', 'Amazon RSA 2048 M02'),)), 'version': 3, 'serialNumber': '0EA57E037BE121416BCDD3B11AF87FB4', 'notBefore': 'Sep 20 00:00:00 2023 GMT', 'notAfter': 'Oct 18 23:59:59 2024 GMT', 'subjectAltName': (('DNS', 'web-search-results-api-public.qa.bws.esa.com'),), 'OCSP': ('http://ocsp.r2m02.amazontrust.com',), 'caIssuers': ('http://crt.r2m02.amazontrust.com/r2m02.cer',), 'crlDistributionPoints': ('http://crl.r2m02.amazontrust.com/r2m02.crl',)}\n",
      "Certificate did not match expected hostname: files.clear.ml. Certificate: {'subject': ((('commonName', 'web-search-results-api-public.qa.bws.esa.com'),),), 'issuer': ((('countryName', 'US'),), (('organizationName', 'Amazon'),), (('commonName', 'Amazon RSA 2048 M02'),)), 'version': 3, 'serialNumber': '0EA57E037BE121416BCDD3B11AF87FB4', 'notBefore': 'Sep 20 00:00:00 2023 GMT', 'notAfter': 'Oct 18 23:59:59 2024 GMT', 'subjectAltName': (('DNS', 'web-search-results-api-public.qa.bws.esa.com'),), 'OCSP': ('http://ocsp.r2m02.amazontrust.com',), 'caIssuers': ('http://crt.r2m02.amazontrust.com/r2m02.cer',), 'crlDistributionPoints': ('http://crl.r2m02.amazontrust.com/r2m02.crl',)}\n",
      "Certificate did not match expected hostname: files.clear.ml. Certificate: {'subject': ((('commonName', 'web-search-results-api-public.qa.bws.esa.com'),),), 'issuer': ((('countryName', 'US'),), (('organizationName', 'Amazon'),), (('commonName', 'Amazon RSA 2048 M02'),)), 'version': 3, 'serialNumber': '0EA57E037BE121416BCDD3B11AF87FB4', 'notBefore': 'Sep 20 00:00:00 2023 GMT', 'notAfter': 'Oct 18 23:59:59 2024 GMT', 'subjectAltName': (('DNS', 'web-search-results-api-public.qa.bws.esa.com'),), 'OCSP': ('http://ocsp.r2m02.amazontrust.com',), 'caIssuers': ('http://crt.r2m02.amazontrust.com/r2m02.cer',), 'crlDistributionPoints': ('http://crl.r2m02.amazontrust.com/r2m02.crl',)}\n",
      "Retrying (Retry(total=2, connect=5, read=5, redirect=5, status=None)) after connection broken by 'SSLError(CertificateError(\"hostname 'files.clear.ml' doesn't match 'web-search-results-api-public.qa.bws.esa.com'\"))': /\n",
      "Certificate did not match expected hostname: files.clear.ml. Certificate: {'subject': ((('commonName', 'web-search-results-api-public.qa.bws.esa.com'),),), 'issuer': ((('countryName', 'US'),), (('organizationName', 'Amazon'),), (('commonName', 'Amazon RSA 2048 M02'),)), 'version': 3, 'serialNumber': '0EA57E037BE121416BCDD3B11AF87FB4', 'notBefore': 'Sep 20 00:00:00 2023 GMT', 'notAfter': 'Oct 18 23:59:59 2024 GMT', 'subjectAltName': (('DNS', 'web-search-results-api-public.qa.bws.esa.com'),), 'OCSP': ('http://ocsp.r2m02.amazontrust.com',), 'caIssuers': ('http://crt.r2m02.amazontrust.com/r2m02.cer',), 'crlDistributionPoints': ('http://crl.r2m02.amazontrust.com/r2m02.crl',)}\n",
      "Retrying (Retry(total=1, connect=5, read=5, redirect=5, status=None)) after connection broken by 'SSLError(CertificateError(\"hostname 'files.clear.ml' doesn't match 'web-search-results-api-public.qa.bws.esa.com'\"))': /\n"
     ]
    },
    {
     "name": "stdout",
     "output_type": "stream",
     "text": [
      "Epoch evaluation time 4019.1907646656036\n",
      "----------------------------------------------------------------------------------------------------\n",
      "Epoch 12    05-04-2024 13:41:34\n",
      "Epoch evaluation time 4078.4684250354767\n",
      "----------------------------------------------------------------------------------------------------\n",
      "Epoch 13    05-04-2024 14:49:32\n"
     ]
    },
    {
     "ename": "KeyboardInterrupt",
     "evalue": "",
     "output_type": "error",
     "traceback": [
      "\u001b[1;31m---------------------------------------------------------------------------\u001b[0m",
      "\u001b[1;31mKeyboardInterrupt\u001b[0m                         Traceback (most recent call last)",
      "Cell \u001b[1;32mIn[13], line 15\u001b[0m\n\u001b[0;32m     13\u001b[0m start_time \u001b[38;5;241m=\u001b[39m time()\n\u001b[0;32m     14\u001b[0m \u001b[38;5;28;01mwith\u001b[39;00m redirect_stdout(fake_out):\n\u001b[1;32m---> 15\u001b[0m     train_one_epoch(model, optimizer, train_dataloader, device, epoch, print_freq\u001b[38;5;241m=\u001b[39mfrequency)\n\u001b[0;32m     16\u001b[0m     lr_scheduler\u001b[38;5;241m.\u001b[39mstep()\n\u001b[0;32m     17\u001b[0m     evaluation \u001b[38;5;241m=\u001b[39m evaluate(model, valid_dataloader, device\u001b[38;5;241m=\u001b[39mdevice)\n",
      "File \u001b[1;32m~\\Jupyter\\DL\\faster_rcnn\\engine.py:57\u001b[0m, in \u001b[0;36mtrain_one_epoch\u001b[1;34m(model, optimizer, data_loader, device, epoch, print_freq, scaler)\u001b[0m\n\u001b[0;32m     54\u001b[0m     \u001b[38;5;28;01mif\u001b[39;00m lr_scheduler \u001b[38;5;129;01mis\u001b[39;00m \u001b[38;5;129;01mnot\u001b[39;00m \u001b[38;5;28;01mNone\u001b[39;00m:\n\u001b[0;32m     55\u001b[0m         lr_scheduler\u001b[38;5;241m.\u001b[39mstep()\n\u001b[1;32m---> 57\u001b[0m     metric_logger\u001b[38;5;241m.\u001b[39mupdate(loss\u001b[38;5;241m=\u001b[39mlosses_reduced, \u001b[38;5;241m*\u001b[39m\u001b[38;5;241m*\u001b[39mloss_dict_reduced)\n\u001b[0;32m     58\u001b[0m     metric_logger\u001b[38;5;241m.\u001b[39mupdate(lr\u001b[38;5;241m=\u001b[39moptimizer\u001b[38;5;241m.\u001b[39mparam_groups[\u001b[38;5;241m0\u001b[39m][\u001b[38;5;124m\"\u001b[39m\u001b[38;5;124mlr\u001b[39m\u001b[38;5;124m\"\u001b[39m])\n\u001b[0;32m     60\u001b[0m \u001b[38;5;28;01mreturn\u001b[39;00m metric_logger\n",
      "File \u001b[1;32m~\\Jupyter\\DL\\faster_rcnn\\utils.py:121\u001b[0m, in \u001b[0;36mMetricLogger.update\u001b[1;34m(self, **kwargs)\u001b[0m\n\u001b[0;32m    119\u001b[0m \u001b[38;5;28;01mfor\u001b[39;00m k, v \u001b[38;5;129;01min\u001b[39;00m kwargs\u001b[38;5;241m.\u001b[39mitems():\n\u001b[0;32m    120\u001b[0m     \u001b[38;5;28;01mif\u001b[39;00m \u001b[38;5;28misinstance\u001b[39m(v, torch\u001b[38;5;241m.\u001b[39mTensor):\n\u001b[1;32m--> 121\u001b[0m         v \u001b[38;5;241m=\u001b[39m v\u001b[38;5;241m.\u001b[39mitem()\n\u001b[0;32m    122\u001b[0m     \u001b[38;5;28;01massert\u001b[39;00m \u001b[38;5;28misinstance\u001b[39m(v, (\u001b[38;5;28mfloat\u001b[39m, \u001b[38;5;28mint\u001b[39m))\n\u001b[0;32m    123\u001b[0m     \u001b[38;5;28mself\u001b[39m\u001b[38;5;241m.\u001b[39mmeters[k]\u001b[38;5;241m.\u001b[39mupdate(v)\n",
      "\u001b[1;31mKeyboardInterrupt\u001b[0m: "
     ]
    }
   ],
   "source": [
    "num_epochs = 100\n",
    "epoch_progress = epoch_remained = 5\n",
    "\n",
    "best_predictor = Predictor()\n",
    "\n",
    "frequency = math.ceil(len(train_dataloader.dataset) / train_dataloader.batch_size)\n",
    "fake_out = io.StringIO()\n",
    "log = Logger.current_logger()\n",
    "\n",
    "for epoch in range(1, num_epochs + 1):\n",
    "    print(\"-\" * 100)\n",
    "    print(f'Epoch {epoch}    {strftime(\"%d-%m-%Y %H:%M:%S\", localtime())}')\n",
    "    start_time = time()\n",
    "    with redirect_stdout(fake_out):\n",
    "        train_one_epoch(model, optimizer, train_dataloader, device, epoch, print_freq=frequency)\n",
    "        lr_scheduler.step()\n",
    "        evaluation = evaluate(model, valid_dataloader, device=device)\n",
    "\n",
    "    output = fake_out.getvalue()\n",
    "    clear_string(fake_out)\n",
    "\n",
    "    ap95 = np.float32(0.0)\n",
    "    ar = np.float32(0.0)\n",
    "\n",
    "    for line in output.split('\\n'):\n",
    "        line_splitted = line.split()\n",
    "        if line.startswith(f'Epoch: [{epoch}]  ['):\n",
    "            loss_classifier = np.float32(line_splitted[line_splitted.index('loss_classifier:') + 1])\n",
    "            loss_box_reg = np.float32(line_splitted[line_splitted.index('loss_box_reg:') + 1])\n",
    "\n",
    "        else:\n",
    "            if loss_classifier and loss_box_reg:\n",
    "                log.report_scalar(\"Training\", \"Loss classifier\", iteration=epoch, value=loss_classifier)\n",
    "                log.report_scalar(\"Training\", \"Loss box reg\", iteration=epoch, value=loss_box_reg)\n",
    "                loss_classifier = loss_box_reg = 0\n",
    "\n",
    "            if line.startswith(' Average Precision  (AP) @[ IoU=0.50:0.95 | area=   all | maxDets=100 ]'):\n",
    "                ap95 = np.float32(line_splitted[-1])\n",
    "\n",
    "                log.report_scalar(\"Training\", \"AP IoU=0.50:0.95\", iteration=epoch, value=ap95)\n",
    "\n",
    "            elif line.startswith(' Average Precision  (AP) @[ IoU=0.50      | area=   all | maxDets=100 ]'):\n",
    "                ap = np.float32(line_splitted[-1])\n",
    "\n",
    "                log.report_scalar(\"Training\", \"AP IoU=0.50\", iteration=epoch, value=ap)\n",
    "\n",
    "            elif line.startswith(' Average Recall     (AR) @[ IoU=0.50:0.95 | area=   all | maxDets=100 ]'):\n",
    "                ar = np.float32(line_splitted[-1])\n",
    "\n",
    "                log.report_scalar(\"Training\", \"AR IoU=0.50:0.95\", iteration=epoch, value=ar)\n",
    "\n",
    "    torch.save(model.state_dict(), 'training/faster_rcnn_weights_last.pt')\n",
    "    if epoch % 5 == 0:\n",
    "        torch.save(model.state_dict(), f'training/faster_rcnn_weights_{epoch}.pt')\n",
    "\n",
    "    if best_predictor.ap95 <= ap95 and best_predictor.ar <= ar:\n",
    "        best_predictor.weights = model.state_dict()\n",
    "        best_predictor.ap95 = ap95\n",
    "        best_predictor.ar = ar\n",
    "        epoch_remained = epoch_progress\n",
    "        print(f\"New best classifier epoch {epoch}\")\n",
    "\n",
    "    else:\n",
    "        epoch_remained -= 1\n",
    "\n",
    "    evaluation_time = time() - start_time\n",
    "    print(f\"Epoch evaluation time {evaluation_time}\")\n",
    "    log.report_scalar(\"Time\", \"Evaluation time\", iteration=epoch, value=evaluation_time)\n",
    "\n",
    "    if epoch_remained == 0:\n",
    "        break"
   ]
  },
  {
   "cell_type": "markdown",
   "id": "5dae1639-1dba-4f63-a8ba-18833e2cdb2d",
   "metadata": {},
   "source": [
    "**Сохранение весов модели**"
   ]
  },
  {
   "cell_type": "code",
   "execution_count": 14,
   "id": "70e2af96-df85-420d-82e5-54e73c85c8c0",
   "metadata": {
    "editable": true,
    "slideshow": {
     "slide_type": ""
    },
    "tags": []
   },
   "outputs": [
    {
     "name": "stdout",
     "output_type": "stream",
     "text": [
      "2024-04-05 14:52:55,176 - clearml.frameworks - INFO - Found existing registered model id=2c8ccb5bcd534815999ea392232f68a0 [C:\\Users\\User\\Jupyter\\DL\\faster_rcnn\\training\\faster_rcnn_weights_best.pt] reusing it.\n",
      "2024-04-05 14:53:10,411 - clearml - WARNING - JSON serialization of artifact 'faster_rcnn_weights_best.pt' failed, reverting to pickle\n"
     ]
    },
    {
     "data": {
      "text/plain": [
       "True"
      ]
     },
     "execution_count": 14,
     "metadata": {},
     "output_type": "execute_result"
    }
   ],
   "source": [
    "torch.save(best_predictor.weights, 'training/faster_rcnn_weights_best.pt')\n",
    "task.upload_artifact(name='faster_rcnn_weights_best.pt', artifact_object=best_predictor.weights)"
   ]
  },
  {
   "cell_type": "code",
   "execution_count": 15,
   "id": "824b992e-3766-44f0-af69-be13636f29cc",
   "metadata": {
    "tags": []
   },
   "outputs": [
    {
     "name": "stdout",
     "output_type": "stream",
     "text": [
      "2024-04-05 14:53:45,168 - clearml.frameworks - INFO - Found existing registered model id=50d5c396b974464c983f25398d2db95c [C:\\Users\\User\\Jupyter\\DL\\faster_rcnn\\checkpoint.pth] reusing it.\n"
     ]
    }
   ],
   "source": [
    "torch.save(\n",
    "    {\n",
    "        'epoch': epoch,\n",
    "        'model_state_dict': model.state_dict(),\n",
    "        'optimizer_state_dict': optimizer.state_dict(),\n",
    "        'scheduler_state_dict': lr_scheduler.state_dict(),\n",
    "    },\n",
    "    'training/checkpoint.pth'\n",
    ")"
   ]
  },
  {
   "cell_type": "code",
   "execution_count": 17,
   "id": "4f44c1e7-1a03-43a3-8815-f3ebc1e3b902",
   "metadata": {
    "tags": []
   },
   "outputs": [],
   "source": [
    "task.close()"
   ]
  }
 ],
 "metadata": {
  "kernelspec": {
   "display_name": "Python 3 (ipykernel)",
   "language": "python",
   "name": "python3"
  },
  "language_info": {
   "codemirror_mode": {
    "name": "ipython",
    "version": 3
   },
   "file_extension": ".py",
   "mimetype": "text/x-python",
   "name": "python",
   "nbconvert_exporter": "python",
   "pygments_lexer": "ipython3",
   "version": "3.12.1"
  }
 },
 "nbformat": 4,
 "nbformat_minor": 5
}
