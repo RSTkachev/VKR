{
 "cells": [
  {
   "cell_type": "code",
   "execution_count": null,
   "id": "383b3350-b6b8-4675-bc2a-fea69d9314d7",
   "metadata": {
    "tags": []
   },
   "outputs": [],
   "source": [
    "%env CLEARML_WEB_HOST=https://app.clear.ml\n",
    "%env CLEARML_API_HOST=https://api.clear.ml\n",
    "%env CLEARML_FILES_HOST=https://files.clear.ml\n",
    "%env CLEARML_API_ACCESS_KEY=ZSRLXZMP0J1YF71WUXFW\n",
    "%env CLEARML_API_SECRET_KEY=rKFqd1bjD1v23kEUyzPD7wK3v6qbXlsoX1kuBKECEk7jFDCOWQ"
   ]
  },
  {
   "cell_type": "code",
   "execution_count": null,
   "id": "b6ef917b-c534-4975-a2e4-432199e8acb7",
   "metadata": {
    "tags": []
   },
   "outputs": [],
   "source": [
    "import ultralytics\n",
    "import clearml"
   ]
  },
  {
   "cell_type": "code",
   "execution_count": null,
   "id": "5035a47e-75f4-4400-b24c-a81913062b89",
   "metadata": {
    "tags": []
   },
   "outputs": [],
   "source": [
    "task = clearml.Task.init(\n",
    "    project_name='YOLOv8',\n",
    "    task_name='Train',\n",
    "    tags=['YOLO', 'Big dataset'],\n",
    ")"
   ]
  },
  {
   "cell_type": "code",
   "execution_count": null,
   "id": "60f58ccc-cf85-4c89-84cd-4e3a435fec3b",
   "metadata": {
    "tags": []
   },
   "outputs": [],
   "source": [
    "ultralytics.checks()"
   ]
  },
  {
   "cell_type": "code",
   "execution_count": null,
   "id": "4b9fa0b3-727b-4765-a939-a760e60a3759",
   "metadata": {
    "tags": []
   },
   "outputs": [],
   "source": [
    "model = ultralytics.YOLO(\"yolov8l.pt\")"
   ]
  },
  {
   "cell_type": "code",
   "execution_count": null,
   "id": "13277188-e759-4114-b675-39abd8bee908",
   "metadata": {
    "tags": []
   },
   "outputs": [],
   "source": [
    "args = dict(\n",
    "    data='dataset/dataset.yaml',\n",
    "    imgsz=640,\n",
    "    epochs=100,\n",
    "    patience=10,\n",
    "    batch=4,\n",
    "    name='yolov8l_big_dataset',\n",
    "    save=True,\n",
    "    save_period=5,\n",
    "    cache=True,\n",
    "    device=0,\n",
    "    workers=12,\n",
    "    pretrained=True,\n",
    "    verbose=True,\n",
    "    seed=17,\n",
    "    cos_lr=True,\n",
    "    val=True,\n",
    "    plots=True,\n",
    "    auto_augment='autoaugment',\n",
    ")"
   ]
  },
  {
   "cell_type": "code",
   "execution_count": null,
   "id": "2466c48e-bf91-4d44-a90d-86e6090578b1",
   "metadata": {
    "tags": []
   },
   "outputs": [],
   "source": [
    "task.connect(args)"
   ]
  },
  {
   "cell_type": "code",
   "execution_count": null,
   "id": "f30f08e1-7de2-4cca-86b3-e3c7201f0be4",
   "metadata": {
    "scrolled": true,
    "tags": []
   },
   "outputs": [],
   "source": [
    "model.train(**args)"
   ]
  },
  {
   "cell_type": "code",
   "execution_count": null,
   "id": "750d2bb4-1e4e-42f9-96a9-fb18c7cc565b",
   "metadata": {},
   "outputs": [],
   "source": [
    "task.close()"
   ]
  }
 ],
 "metadata": {
  "kernelspec": {
   "display_name": "Python 3 (ipykernel)",
   "language": "python",
   "name": "python3"
  },
  "language_info": {
   "codemirror_mode": {
    "name": "ipython",
    "version": 3
   },
   "file_extension": ".py",
   "mimetype": "text/x-python",
   "name": "python",
   "nbconvert_exporter": "python",
   "pygments_lexer": "ipython3",
   "version": "3.12.1"
  }
 },
 "nbformat": 4,
 "nbformat_minor": 5
}
