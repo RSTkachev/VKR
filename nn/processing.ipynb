{
 "cells": [
  {
   "cell_type": "code",
   "execution_count": null,
   "id": "eb618042-69d5-479b-bbda-66724cf2a123",
   "metadata": {
    "scrolled": true,
    "tags": []
   },
   "outputs": [],
   "source": [
    "import pylabel\n",
    "from pylabel import importer\n",
    "import pandas as pd\n",
    "import matplotlib.pyplot as plt"
   ]
  },
  {
   "cell_type": "code",
   "execution_count": null,
   "id": "b80084b0-bd6a-458e-aa21-9a47cf45ac64",
   "metadata": {
    "scrolled": true,
    "tags": []
   },
   "outputs": [],
   "source": [
    "day_path = 'voc_day/Annotations/'\n",
    "night_path = 'voc_night/Annotations/'"
   ]
  },
  {
   "cell_type": "code",
   "execution_count": null,
   "id": "65bfe2ba-151c-47a5-8902-ca04ba88553c",
   "metadata": {
    "scrolled": true,
    "tags": []
   },
   "outputs": [],
   "source": [
    "day_dataset = importer.ImportVOC(day_path)\n",
    "night_dataset = importer.ImportVOC(night_path)"
   ]
  },
  {
   "cell_type": "code",
   "execution_count": null,
   "id": "2e860861-40dd-4e31-9aa5-141c79971a63",
   "metadata": {
    "scrolled": true
   },
   "outputs": [],
   "source": [
    "day_df.img_folder = 'voc_day/JPEGImages/'\n",
    "night_df.img_folder = 'voc_night/JPEGImages/'"
   ]
  },
  {
   "cell_type": "code",
   "execution_count": null,
   "id": "53198b76-8a25-4235-813e-63f3cd766e36",
   "metadata": {
    "scrolled": true,
    "tags": []
   },
   "outputs": [],
   "source": [
    "fullday_df = pd.concat([day_df, night_df], axis=0)"
   ]
  },
  {
   "cell_type": "code",
   "execution_count": null,
   "id": "6b50a54a-8117-420f-8558-c1db4a07794c",
   "metadata": {
    "scrolled": true,
    "tags": []
   },
   "outputs": [],
   "source": [
    "processed_df = fullday_df[~fullday_df['cat_name'].isin(['Dog', 'Cow', 'Badger', 'Y.T.Marten'])]"
   ]
  },
  {
   "cell_type": "code",
   "execution_count": null,
   "id": "1a7f6566-02c3-41a1-9960-59356dce2c8a",
   "metadata": {
    "scrolled": true,
    "tags": []
   },
   "outputs": [],
   "source": [
    "processed_df = processed_df.reset_index(drop=True)"
   ]
  },
  {
   "cell_type": "code",
   "execution_count": null,
   "id": "0703e8c5-26e2-48aa-bbaa-7ad8a3ab05c5",
   "metadata": {
    "scrolled": true,
    "tags": []
   },
   "outputs": [],
   "source": [
    "cats = processed_df.cat_name.value_counts().index"
   ]
  },
  {
   "cell_type": "code",
   "execution_count": null,
   "id": "ba239514-4478-4dec-b8f3-0b46af2d1ac3",
   "metadata": {
    "scrolled": true,
    "tags": []
   },
   "outputs": [],
   "source": [
    "cats_name = {}\n",
    "number = 0\n",
    "for cat in cats:\n",
    "    cats_name[cat] = number\n",
    "    number += 1"
   ]
  },
  {
   "cell_type": "code",
   "execution_count": null,
   "id": "1de644b8-ebce-474d-8339-affad3594cc8",
   "metadata": {
    "scrolled": true,
    "tags": []
   },
   "outputs": [],
   "source": [
    "for row in range(processed_df.shape[0]):\n",
    "    processed_df.loc[row, 'cat_id'] = cats_name[processed_df.loc[row, 'cat_name']]"
   ]
  },
  {
   "cell_type": "code",
   "execution_count": null,
   "id": "5fb20d63-f467-4571-8a43-2eca322aff66",
   "metadata": {
    "scrolled": true,
    "tags": []
   },
   "outputs": [],
   "source": [
    "processed_dataset = pylabel.dataset.Dataset(processed_df)"
   ]
  },
  {
   "cell_type": "code",
   "execution_count": null,
   "id": "99906716-db78-4f63-990b-4355d6944c42",
   "metadata": {
    "scrolled": true,
    "tags": []
   },
   "outputs": [],
   "source": [
    "splitter = pylabel.splitter.Split(processed_dataset)\n",
    "splitter.StratifiedGroupShuffleSplit(\n",
    "    train_pct=0.8,\n",
    "    test_pct=0.1,\n",
    "    val_pct=0.1,\n",
    "    cat_col=['cat_name', 'img_folder'],\n",
    ")"
   ]
  },
  {
   "cell_type": "code",
   "execution_count": null,
   "id": "cd212dce-d138-4b8c-a5bd-1828ee80c8c4",
   "metadata": {
    "scrolled": true,
    "tags": []
   },
   "outputs": [],
   "source": [
    "splitter.dataset.export.ExportToYoloV5(use_splits=True, copy_images=True)"
   ]
  },
  {
   "cell_type": "code",
   "execution_count": null,
   "id": "cd5f8680-d2e5-4ded-8c61-9d54b63f9034",
   "metadata": {
    "scrolled": true,
    "tags": []
   },
   "outputs": [],
   "source": [
    "splitted_df = splitter.dataset.df\n",
    "\n",
    "train_df = splitted_df[splitted_df['split'] == 'train'].drop(columns='split')\n",
    "test_df = splitted_df[splitted_df['split'] == 'test'].drop(columns='split')\n",
    "valid_df = splitted_df[splitted_df['split'] == 'val'].drop(columns='split')"
   ]
  },
  {
   "cell_type": "code",
   "execution_count": null,
   "id": "442a1790-0d14-4a62-8c28-44602c9d4b19",
   "metadata": {
    "scrolled": true,
    "tags": []
   },
   "outputs": [],
   "source": [
    "train_df.to_csv('train_df.csv')\n",
    "test_df.to_csv('test_df.csv')\n",
    "valid_df.to_csv('valid_df.csv')"
   ]
  }
 ],
 "metadata": {
  "kernelspec": {
   "display_name": "Python 3 (ipykernel)",
   "language": "python",
   "name": "python3"
  },
  "language_info": {
   "codemirror_mode": {
    "name": "ipython",
    "version": 3
   },
   "file_extension": ".py",
   "mimetype": "text/x-python",
   "name": "python",
   "nbconvert_exporter": "python",
   "pygments_lexer": "ipython3",
   "version": "3.12.1"
  }
 },
 "nbformat": 4,
 "nbformat_minor": 5
}
